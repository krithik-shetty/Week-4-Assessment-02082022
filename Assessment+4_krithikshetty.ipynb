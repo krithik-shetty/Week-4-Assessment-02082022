{
 "cells": [
  {
   "cell_type": "code",
   "execution_count": 1,
   "metadata": {},
   "outputs": [
    {
     "data": {
      "text/plain": [
       "<pyspark.context.SparkContext at 0x7f6fb40495d0>"
      ]
     },
     "execution_count": 1,
     "metadata": {},
     "output_type": "execute_result"
    }
   ],
   "source": [
    "sc\n"
   ]
  },
  {
   "cell_type": "markdown",
   "metadata": {},
   "source": [
    "# Question  4"
   ]
  },
  {
   "cell_type": "code",
   "execution_count": 2,
   "metadata": {
    "collapsed": true
   },
   "outputs": [],
   "source": [
    "twtpath=\"hdfs:///spark/cache-0.json\""
   ]
  },
  {
   "cell_type": "code",
   "execution_count": 3,
   "metadata": {
    "collapsed": true
   },
   "outputs": [],
   "source": [
    "import json\n",
    "twtdata=sc.textFile(twtpath).map(lambda x:json.loads(x))"
   ]
  },
  {
   "cell_type": "code",
   "execution_count": 4,
   "metadata": {},
   "outputs": [
    {
     "data": {
      "text/plain": [
       "[u'Obama asked a 7 yr old for his birth certificate. He\\'s \"in your face\" because the Republicans dropped the ball. (cont) http://t.co/FufZD79U',\n",
       " u'Obama is taunting the Republicans on the birther issue. They should call his bluff &amp; demand the REAL facts. He (cont) http://t.co/NWmVp06e',\n",
       " u'\"President Obama is the greatest hoax ever perpetrated on the American people\"\\n--Clint Eastwood']"
      ]
     },
     "execution_count": 4,
     "metadata": {},
     "output_type": "execute_result"
    }
   ],
   "source": [
    "twtdata.filter(lambda x:x['user']['screen_name']==\"realDonaldTrump\").map(lambda x:x['text']).collect()"
   ]
  },
  {
   "cell_type": "markdown",
   "metadata": {},
   "source": [
    "# Question 3"
   ]
  },
  {
   "cell_type": "code",
   "execution_count": 7,
   "metadata": {},
   "outputs": [
    {
     "data": {
      "text/plain": [
       "[{u'contributors': None,\n",
       "  u'coordinates': None,\n",
       "  u'created_at': u'Sun Sep 09 21:17:55 +0000 2012',\n",
       "  u'entities': {u'hashtags': [{u'indices': [87, 95], u'text': u'florida'}],\n",
       "   u'urls': [{u'display_url': u'STLtoday.com',\n",
       "     u'expanded_url': u'http://STLtoday.com',\n",
       "     u'indices': [45, 65],\n",
       "     u'url': u'http://t.co/OcISvreb'},\n",
       "    {u'display_url': u'bit.ly/Tzhmly',\n",
       "     u'expanded_url': u'http://bit.ly/Tzhmly',\n",
       "     u'indices': [66, 86],\n",
       "     u'url': u'http://t.co/FsJ7xgGW'}],\n",
       "   u'user_mentions': []},\n",
       "  u'favorited': False,\n",
       "  u'geo': None,\n",
       "  u'id': 244907511377965056,\n",
       "  u'id_str': u'244907511377965056',\n",
       "  u'in_reply_to_screen_name': None,\n",
       "  u'in_reply_to_status_id': None,\n",
       "  u'in_reply_to_status_id_str': None,\n",
       "  u'in_reply_to_user_id': None,\n",
       "  u'in_reply_to_user_id_str': None,\n",
       "  u'place': None,\n",
       "  u'possibly_sensitive': False,\n",
       "  u'possibly_sensitive_editable': True,\n",
       "  u'retweet_count': 0,\n",
       "  u'retweeted': False,\n",
       "  u'source': u'<a href=\"http://twitterfeed.com\" rel=\"nofollow\">twitterfeed</a>',\n",
       "  u'text': u'Obama vies for health care edge in Florida - http://t.co/OcISvreb http://t.co/FsJ7xgGW #florida',\n",
       "  u'truncated': False,\n",
       "  u'user': {u'contributors_enabled': False,\n",
       "   u'created_at': u'Sat Nov 13 23:19:24 +0000 2010',\n",
       "   u'default_profile': True,\n",
       "   u'default_profile_image': False,\n",
       "   u'description': u'',\n",
       "   u'favourites_count': 0,\n",
       "   u'follow_request_sent': None,\n",
       "   u'followers_count': 3214,\n",
       "   u'following': None,\n",
       "   u'friends_count': 2258,\n",
       "   u'geo_enabled': False,\n",
       "   u'id': 215440345,\n",
       "   u'id_str': u'215440345',\n",
       "   u'is_translator': False,\n",
       "   u'lang': u'en',\n",
       "   u'listed_count': 116,\n",
       "   u'location': u'',\n",
       "   u'name': u'Florida News',\n",
       "   u'notifications': None,\n",
       "   u'profile_background_color': u'C0DEED',\n",
       "   u'profile_background_image_url': u'http://a0.twimg.com/images/themes/theme1/bg.png',\n",
       "   u'profile_background_image_url_https': u'https://si0.twimg.com/images/themes/theme1/bg.png',\n",
       "   u'profile_background_tile': False,\n",
       "   u'profile_image_url': u'http://a0.twimg.com/profile_images/1166515929/florida_normal.jpg',\n",
       "   u'profile_image_url_https': u'https://si0.twimg.com/profile_images/1166515929/florida_normal.jpg',\n",
       "   u'profile_link_color': u'0084B4',\n",
       "   u'profile_sidebar_border_color': u'C0DEED',\n",
       "   u'profile_sidebar_fill_color': u'DDEEF6',\n",
       "   u'profile_text_color': u'333333',\n",
       "   u'profile_use_background_image': True,\n",
       "   u'protected': False,\n",
       "   u'screen_name': u'FLnewswire',\n",
       "   u'show_all_inline_media': False,\n",
       "   u'statuses_count': 78777,\n",
       "   u'time_zone': u'Central Time (US & Canada)',\n",
       "   u'url': None,\n",
       "   u'utc_offset': -21600,\n",
       "   u'verified': False}}]"
      ]
     },
     "execution_count": 7,
     "metadata": {},
     "output_type": "execute_result"
    }
   ],
   "source": [
    "twtdata.take(1)\n"
   ]
  },
  {
   "cell_type": "code",
   "execution_count": 8,
   "metadata": {},
   "outputs": [
    {
     "data": {
      "text/plain": [
       "1000000"
      ]
     },
     "execution_count": 8,
     "metadata": {},
     "output_type": "execute_result"
    }
   ],
   "source": [
    "twtdata.count()\n",
    "twtdata.collect()"
   ]
  },
  {
   "cell_type": "code",
   "execution_count": 9,
   "metadata": {},
   "outputs": [
    {
     "data": {
      "text/plain": [
       "{u'contributors': None,\n",
       " u'coordinates': None,\n",
       " u'created_at': u'Sun Sep 09 21:17:55 +0000 2012',\n",
       " u'entities': {u'hashtags': [{u'indices': [87, 95], u'text': u'florida'}],\n",
       "  u'urls': [{u'display_url': u'STLtoday.com',\n",
       "    u'expanded_url': u'http://STLtoday.com',\n",
       "    u'indices': [45, 65],\n",
       "    u'url': u'http://t.co/OcISvreb'},\n",
       "   {u'display_url': u'bit.ly/Tzhmly',\n",
       "    u'expanded_url': u'http://bit.ly/Tzhmly',\n",
       "    u'indices': [66, 86],\n",
       "    u'url': u'http://t.co/FsJ7xgGW'}],\n",
       "  u'user_mentions': []},\n",
       " u'favorited': False,\n",
       " u'geo': None,\n",
       " u'id': 244907511377965056,\n",
       " u'id_str': u'244907511377965056',\n",
       " u'in_reply_to_screen_name': None,\n",
       " u'in_reply_to_status_id': None,\n",
       " u'in_reply_to_status_id_str': None,\n",
       " u'in_reply_to_user_id': None,\n",
       " u'in_reply_to_user_id_str': None,\n",
       " u'place': None,\n",
       " u'possibly_sensitive': False,\n",
       " u'possibly_sensitive_editable': True,\n",
       " u'retweet_count': 0,\n",
       " u'retweeted': False,\n",
       " u'source': u'<a href=\"http://twitterfeed.com\" rel=\"nofollow\">twitterfeed</a>',\n",
       " u'text': u'Obama vies for health care edge in Florida - http://t.co/OcISvreb http://t.co/FsJ7xgGW #florida',\n",
       " u'truncated': False,\n",
       " u'user': {u'contributors_enabled': False,\n",
       "  u'created_at': u'Sat Nov 13 23:19:24 +0000 2010',\n",
       "  u'default_profile': True,\n",
       "  u'default_profile_image': False,\n",
       "  u'description': u'',\n",
       "  u'favourites_count': 0,\n",
       "  u'follow_request_sent': None,\n",
       "  u'followers_count': 3214,\n",
       "  u'following': None,\n",
       "  u'friends_count': 2258,\n",
       "  u'geo_enabled': False,\n",
       "  u'id': 215440345,\n",
       "  u'id_str': u'215440345',\n",
       "  u'is_translator': False,\n",
       "  u'lang': u'en',\n",
       "  u'listed_count': 116,\n",
       "  u'location': u'',\n",
       "  u'name': u'Florida News',\n",
       "  u'notifications': None,\n",
       "  u'profile_background_color': u'C0DEED',\n",
       "  u'profile_background_image_url': u'http://a0.twimg.com/images/themes/theme1/bg.png',\n",
       "  u'profile_background_image_url_https': u'https://si0.twimg.com/images/themes/theme1/bg.png',\n",
       "  u'profile_background_tile': False,\n",
       "  u'profile_image_url': u'http://a0.twimg.com/profile_images/1166515929/florida_normal.jpg',\n",
       "  u'profile_image_url_https': u'https://si0.twimg.com/profile_images/1166515929/florida_normal.jpg',\n",
       "  u'profile_link_color': u'0084B4',\n",
       "  u'profile_sidebar_border_color': u'C0DEED',\n",
       "  u'profile_sidebar_fill_color': u'DDEEF6',\n",
       "  u'profile_text_color': u'333333',\n",
       "  u'profile_use_background_image': True,\n",
       "  u'protected': False,\n",
       "  u'screen_name': u'FLnewswire',\n",
       "  u'show_all_inline_media': False,\n",
       "  u'statuses_count': 78777,\n",
       "  u'time_zone': u'Central Time (US & Canada)',\n",
       "  u'url': None,\n",
       "  u'utc_offset': -21600,\n",
       "  u'verified': False}}"
      ]
     },
     "execution_count": 9,
     "metadata": {},
     "output_type": "execute_result"
    }
   ],
   "source": [
    "twtdata.first()\n",
    "\n"
   ]
  },
  {
   "cell_type": "markdown",
   "metadata": {},
   "source": [
    "# question 7"
   ]
  },
  {
   "cell_type": "code",
   "execution_count": null,
   "metadata": {
    "collapsed": true
   },
   "outputs": [],
   "source": [
    "flightdata.filter(lambda x:(x['origin']==\"LAX\") and (x['date'] == datetime.strptime(\"2016-01-01\", \"%Y-%m-%d\"))).count()"
   ]
  },
  {
   "cell_type": "markdown",
   "metadata": {},
   "source": [
    "# question 8"
   ]
  },
  {
   "cell_type": "code",
   "execution_count": null,
   "metadata": {
    "collapsed": true
   },
   "outputs": [],
   "source": [
    "blanks = flightdata.map(lambda x:','.join(x or '00.00' for x in x.split(',')))"
   ]
  },
  {
   "cell_type": "markdown",
   "metadata": {},
   "source": [
    "# question 6"
   ]
  },
  {
   "cell_type": "code",
   "execution_count": null,
   "metadata": {
    "collapsed": true
   },
   "outputs": [],
   "source": [
    "delay=flightdata.map(lambda x:x.arv_delay).reduce(lambda x,y:x+y)"
   ]
  },
  {
   "cell_type": "code",
   "execution_count": null,
   "metadata": {
    "collapsed": true
   },
   "outputs": [],
   "source": [
    "avg=delay/flightdata.count()\n"
   ]
  },
  {
   "cell_type": "markdown",
   "metadata": {},
   "source": [
    "# question 2\n"
   ]
  },
  {
   "cell_type": "code",
   "execution_count": null,
   "metadata": {
    "collapsed": true
   },
   "outputs": [],
   "source": [
    "sqoop import --connect \\\n",
    "jdbc:mysql://127.0.0.1:3306/database_name_in_mysql \\\n",
    " --username root --password 1234 \\\n",
    " --table table_name_in_mysql \\\n",
    " --hive-import --hive-table database_name_in_hive.table_name_in_hive \\\n",
    " --m 1"
   ]
  },
  {
   "cell_type": "markdown",
   "metadata": {},
   "source": [
    "# question 1 "
   ]
  },
  {
   "cell_type": "code",
   "execution_count": null,
   "metadata": {
    "collapsed": true
   },
   "outputs": [],
   "source": [
    "agent1.sources =source1\n",
    "agent1.sinks = sink1\n",
    "agent1.channels = channel1\n",
    "\n",
    "agent1.sources.source1.channels = channel1\n",
    "agent1.sinks.sink1.channel = channel1\n",
    "\n",
    "agent1.sources.source1.type = spooldir\n",
    "agent1.sources.source1.spoolDir = /home/krithik/spooldir\n",
    "\n",
    "agent1.sinks.sink1.type = hdfs\n",
    "agent1.sinks.sink1.hdfs.path = /flume\n",
    "agent1.sinks.sink1.hdfs.filePrefix = events\n",
    "agent1.sinks.sink1.hdfs.fileSuffix = .log\n",
    "agent1.sinks.sink1.hdfs.inUsePrefix = _\n",
    "agent1.sinks.sink1.hdfs.fileType = DataStream\n",
    "\n",
    "agent1.channels.channel1.type = file"
   ]
  },
  {
   "cell_type": "markdown",
   "metadata": {},
   "source": [
    "# question 5"
   ]
  },
  {
   "cell_type": "code",
   "execution_count": null,
   "metadata": {
    "collapsed": true
   },
   "outputs": [],
   "source": [
    "from pyspark import SparkContext\n",
    "from pyspark.streaming import StreamingContext\n",
    "\n",
    "sc = SparkContext(\"local[2]\",\"Stream error count\")\n",
    "ssc = StreamingContext(sc,5)\n",
    "\n",
    "ssc.checkpoint(\"/streaming\")\n",
    "ds1 = ssc.socketTextStream(\"localhost\", 9999)\n",
    "count = ds1.flatMap(lambda x:x.split(\" \")).filter(lambda word:\"Error\" in word).map(lambda word:(word,1)).reduceByKey(lambda x,y:x+y)\n",
    "\n",
    "count.pprint()\n",
    "ssc.start()\n",
    "ssc.awaitTermination()"
   ]
  }
 ],
 "metadata": {
  "kernelspec": {
   "display_name": "Python 2",
   "language": "python",
   "name": "python2"
  },
  "language_info": {
   "codemirror_mode": {
    "name": "ipython",
    "version": 2
   },
   "file_extension": ".py",
   "mimetype": "text/x-python",
   "name": "python",
   "nbconvert_exporter": "python",
   "pygments_lexer": "ipython2",
   "version": "2.7.13"
  }
 },
 "nbformat": 4,
 "nbformat_minor": 2
}
